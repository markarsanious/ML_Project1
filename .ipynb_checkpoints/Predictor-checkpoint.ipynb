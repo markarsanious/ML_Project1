{
 "cells": [
  {
   "cell_type": "code",
   "execution_count": 78,
   "metadata": {},
   "outputs": [],
   "source": [
    "#imports\n",
    "import numpy as np\n",
    "import pandas as pd\n",
    "from sklearn import preprocessing\n",
    "from sklearn import metrics\n",
    "from sklearn.model_selection import train_test_split\n",
    "from sklearn.neural_network import MLPRegressor\n",
    "from sklearn.model_selection import GridSearchCV\n",
    "import matplotlib.pyplot as plt\n",
    "from sklearn.metrics import mean_squared_error, mean_squared_log_error, accuracy_score\n",
    "\n",
    "\n",
    "#read data using pandas\n",
    "data = pd.read_csv(\"sp500_27270.csv\")\n",
    "\n",
    "#Filtering data satisfying correlation >=0.95 or <=-0.95\n",
    "filtered_companies = []\n",
    "correlation = data.corr()\n",
    "for i in range(len(correlation)):\n",
    "    if(correlation['SP500'][i]>=0.95 or correlation['SP500'][i]<=-0.95):\n",
    "        filtered_companies.append(correlation['SP500'].keys().values[i])\n",
    "\n",
    "#extracting the columns of the companies satisfying the correlation limits\n",
    "filtered_data = data.filter(filtered_companies)\n",
    "\n",
    "#specifying the inputs (columns of companies stock prices)\n",
    "#specifying our output as the SP500 index column\n",
    "Y = np.array(filtered_data['SP500'])\n",
    "X = np.array(filtered_data.drop(columns=['SP500']))\n",
    "\n",
    "#divide the dataset into training and testing sets in the ratio 80:20, \n",
    "#training data will later be furthered splitted into training and validation\n",
    "X_train,X_test,Y_train,Y_test = train_test_split(X,Y,test_size=0.2)\n",
    "\n",
    "#Normalizing Data (using mean and standard deviation)\n",
    "X_scaled = preprocessing.scale(X)\n",
    "Y_scaled = preprocessing.scale(Y)\n",
    "\n",
    "#divide the scaled dataset into training and testing sets in the ratio 80:20\n",
    "X_train_scaled,X_test_scaled,Y_train_scaled,Y_test_scaled = train_test_split(X_scaled,Y_scaled,test_size=0.2)"
   ]
  },
  {
   "cell_type": "code",
   "execution_count": 58,
   "metadata": {},
   "outputs": [],
   "source": [
    "#We define four classifiers with the best params of the grid search \n",
    "#but varying the solver and the learning rate as requested\n",
    "#we try both solvers 'sgd' and 'adam' each with learning rates '0.01' and '0.1' \n",
    "#then we plot the best architecture. For each architecture we use the scoring metric of mean square log error\n",
    "#justification for parameters and scoring metrics used later at the end"
   ]
  },
  {
   "cell_type": "code",
   "execution_count": 52,
   "metadata": {},
   "outputs": [
    {
     "name": "stdout",
     "output_type": "stream",
     "text": [
      "Regressor with SGD solver and 0.1 learning rate: \n",
      "Mean Square Log Error: 0.01741103293318664\n",
      "\n",
      "Regressor with SGD solver and 0.01 learning rate: \n",
      "Mean Square Log Error for Sgd: 0.01741028279358176\n",
      "\n"
     ]
    }
   ],
   "source": [
    "#define the MLP regressor with solver sgd and learning rate 0.1\n",
    "regressor = MLPRegressor(solver='sgd', hidden_layer_sizes=(1024,2), learning_rate='adaptive',learning_rate_init=0.1,\n",
    "                         validation_fraction=0.25, alpha=0.001, max_iter=3000, early_stopping=True)\n",
    "regressor.fit(X_train, Y_train)\n",
    "predictions = regressor.predict(X_test)\n",
    "MSLE = mean_squared_log_error(Y_test, predictions)\n",
    "print(\"Regressor with SGD solver and 0.1 learning rate: \")\n",
    "print(\"Mean Square Log Error:\", MSLE)\n",
    "print()\n",
    " \n",
    "    \n",
    "#define the MLP regressor with solver sgd and learning rate 0.01\n",
    "regressor = MLPRegressor(solver='sgd', hidden_layer_sizes=(1024,2), learning_rate='adaptive',learning_rate_init=0.01,\n",
    "                         validation_fraction=0.25, alpha=0.001, max_iter=3000, early_stopping=True)\n",
    "regressor.fit(X_train, Y_train)\n",
    "predictions = regressor.predict(X_test)\n",
    "MSLE = mean_squared_log_error(Y_test, predictions)\n",
    "print(\"Regressor with SGD solver and 0.01 learning rate: \")\n",
    "print(\"Mean Square Log Error for Sgd:\", MSLE)\n",
    "print()\n",
    " \n",
    "\n"
   ]
  },
  {
   "cell_type": "code",
   "execution_count": 43,
   "metadata": {},
   "outputs": [
    {
     "name": "stdout",
     "output_type": "stream",
     "text": [
      "Regressor with ADAM solver and 0.1 learning rate: \n",
      "Mean Square Log Error: 0.015829253532634455\n",
      "\n"
     ]
    }
   ],
   "source": [
    "#define the MLP regressor with solver adam and learning rate 0.1\n",
    "regressor = MLPRegressor(solver='adam', hidden_layer_sizes=(1024,2), learning_rate='adaptive',learning_rate_init=0.1,\n",
    "                         validation_fraction=0.25, alpha=0.001, max_iter=3000, early_stopping=True)\n",
    "regressor.fit(X_train, Y_train)\n",
    "predictions = regressor.predict(X_test)\n",
    "MSLE = mean_squared_log_error(Y_test, predictions)\n",
    "print(\"Regressor with ADAM solver and 0.1 learning rate: \")\n",
    "print(\"Mean Square Log Error:\", MSLE)\n",
    "print()\n",
    " \n",
    "    \n"
   ]
  },
  {
   "cell_type": "code",
   "execution_count": 54,
   "metadata": {},
   "outputs": [
    {
     "name": "stdout",
     "output_type": "stream",
     "text": [
      "Regressor with ADAM solver and 0.01 learning rate: \n",
      "Mean Square Log Error: 0.0005010408038243095\n",
      "\n"
     ]
    }
   ],
   "source": [
    "#define the MLP regressor with solver adam and learning rate 0.01\n",
    "regressor = MLPRegressor(solver='adam', hidden_layer_sizes=(1024,2), learning_rate='adaptive',learning_rate_init=0.01,\n",
    "                         validation_fraction=0.25, alpha=0.001, max_iter=3000, early_stopping=True)\n",
    "regressor.fit(X_train, Y_train)\n",
    "predictions = regressor.predict(X_test)\n",
    "MSLE = mean_squared_log_error(Y_test, predictions)\n",
    "print(\"Regressor with ADAM solver and 0.01 learning rate: \")\n",
    "print(\"Mean Square Log Error:\", MSLE)\n",
    "print()"
   ]
  },
  {
   "cell_type": "code",
   "execution_count": 60,
   "metadata": {},
   "outputs": [
    {
     "data": {
      "text/plain": [
       "Text(0.5,1,'S&P VS Company')"
      ]
     },
     "execution_count": 60,
     "metadata": {},
     "output_type": "execute_result"
    },
    {
     "data": {
      "image/png": "[encoded data removed]",
      "text/plain": [
       "<Figure size 432x288 with 1 Axes>"
      ]
     },
     "metadata": {},
     "output_type": "display_data"
    }
   ],
   "source": [
    "#we plot both the true and predicted values against the input data to compare between them\n",
    "fig = plt.figure()\n",
    "ax = fig.add_axes([1,0.1,0.8,0.8])\n",
    "ax.scatter(X_test[:,1], predictions, c='b', label='Predictions')\n",
    "ax.scatter(X_test[:,1], Y_test, c='r', label='True Values')\n",
    "ax.grid()\n",
    "ax.legend(loc='best')\n",
    "ax.set_xlabel('One of the companies')\n",
    "ax.set_ylabel('S&P')\n",
    "ax.set_title('S&P VS Company')\n",
    "\n"
   ]
  },
  {
   "cell_type": "code",
   "execution_count": null,
   "metadata": {},
   "outputs": [],
   "source": [
    "#-----------TASK 1 ANALYSIS ----------------\n",
    "#First, we divided dataset into training and testing in the ratio 80:20\n",
    "#then we specified that 25% of this 80 will be for validation so final ratio is 60:20:20\n",
    "#For the scoring metrics, We used mean squared log error instead of the mean squared error because the output range in this task is so large\n",
    "#thus mean squared error will penalize the error a lot but mean squared log error squishes the range by applying the log function\n",
    "#we trained our neural network using different solvers (sgd & adam) and different learning rates (0.01 and 0.1)\n",
    "#we calculated the mean squared log error for each regressor\n",
    "#For regularization, we used alpha term = 0.001 \n",
    "#and we also applied early stopping so that we stop before memorization starts and validation error increases\n",
    "\n",
    "#Adam optimizer was better in this task as it got less mean squared log error than SGD in both regressors\n",
    "#What makes adam better in a lot of machine learning algorithm is that \n",
    "#in addition to storing an exponentially decaying average of past \"squared\" gradients (v) like other optimizers, \n",
    "#Adam also keeps an exponentially decaying average of past gradients (m), similar to momentum so it decays more slowly\n",
    "#giving it the change to be better at remembering past gradients then it use both to updated the weights\n",
    "\n",
    "#For the best architecture, We plotted the predicted values versus the true values\n",
    "#The true and predicted values start to mismatch more at the larger values (top right) \n",
    "#where the error values get larger since the predicted values are larger \n",
    "#so a mispredict is likely to affect the error function more \n",
    "#leading to a larger distance between the true and the predicted values on the graph.\n",
    "\n",
    "\n"
   ]
  },
  {
   "cell_type": "code",
   "execution_count": null,
   "metadata": {},
   "outputs": [],
   "source": []
  },
  {
   "cell_type": "code",
   "execution_count": null,
   "metadata": {},
   "outputs": [],
   "source": []
  },
  {
   "cell_type": "markdown",
   "metadata": {},
   "source": [
    "# TASK 2"
   ]
  },
  {
   "cell_type": "code",
   "execution_count": 70,
   "metadata": {},
   "outputs": [],
   "source": [
    "#sort the dataframe by the SP500 index value descendingly\n",
    "sorted_dataframe = correlation.sort_values(['SP500'], ascending=False)\n",
    "\n",
    "#drop the value of the first row (one with the maximum SP500 value in the SP500 column) \n",
    "#since this represents the correlation of SP500 with itself. We actually looking for the most correlated company\n",
    "#which will be the second highest value in the SP500 index column\n",
    "sorted_dataframe = sorted_dataframe[1:]\n",
    "\n",
    "#extract the company name (the key) of this maximum value\n",
    "maximum_company = sorted_dataframe['SP500'].keys().values[0]\n",
    "\n",
    "#extract the column of this maximum company from the data frame\n",
    "maximum_company_data = data[maximum_company]\n",
    "\n",
    "#initialize empty arrays for inputs and output\n",
    "X = []\n",
    "Y = []\n",
    "\n",
    "#loop over the whole column\n",
    "#in each iteration append 5 values representing days from (t-4 till t) to the input array\n",
    "#and the following 4 values representing days (t+1 till t+4) to the output array\n",
    "#shift the dataframe to the left by 1 step (-1) to take following values\n",
    "for value in range(0,len(maximum_company_data)-9):\n",
    "    x_element = list(maximum_company_data[:5])\n",
    "    y_element = list(maximum_company_data[5:9])\n",
    "    X.append(x_element)\n",
    "    Y.append(y_element)\n",
    "    maximum_company_data = maximum_company_data.shift(-1)\n",
    "    \n",
    "\n",
    "\n",
    "#divide the dataset into training and testing sets with ratio 80:20\n",
    "X_train,X_test,Y_train,Y_test = train_test_split(X, Y,test_size=0.2)\n",
    "\n"
   ]
  },
  {
   "cell_type": "code",
   "execution_count": 71,
   "metadata": {},
   "outputs": [
    {
     "name": "stdout",
     "output_type": "stream",
     "text": [
      "Fitting 3 folds for each of 8 candidates, totalling 24 fits\n",
      "[CV] activation=tanh, early_stopping=True, hidden_layer_sizes=(128, 2), learning_rate=adaptive, learning_rate_init=0.01, solver=sgd \n",
      "[CV]  activation=tanh, early_stopping=True, hidden_layer_sizes=(128, 2), learning_rate=adaptive, learning_rate_init=0.01, solver=sgd, score=-281.1911083768576, total=   0.1s\n",
      "[CV] activation=tanh, early_stopping=True, hidden_layer_sizes=(128, 2), learning_rate=adaptive, learning_rate_init=0.01, solver=sgd \n"
     ]
    },
    {
     "name": "stderr",
     "output_type": "stream",
     "text": [
      "[Parallel(n_jobs=1)]: Done   1 out of   1 | elapsed:    0.1s remaining:    0.0s\n",
      "[Parallel(n_jobs=1)]: Done   2 out of   2 | elapsed:    0.2s remaining:    0.0s\n"
     ]
    },
    {
     "name": "stdout",
     "output_type": "stream",
     "text": [
      "[CV]  activation=tanh, early_stopping=True, hidden_layer_sizes=(128, 2), learning_rate=adaptive, learning_rate_init=0.01, solver=sgd, score=-255.38963527204783, total=   0.1s\n",
      "[CV] activation=tanh, early_stopping=True, hidden_layer_sizes=(128, 2), learning_rate=adaptive, learning_rate_init=0.01, solver=sgd \n",
      "[CV]  activation=tanh, early_stopping=True, hidden_layer_sizes=(128, 2), learning_rate=adaptive, learning_rate_init=0.01, solver=sgd, score=-263.18387518562497, total=   0.1s\n",
      "[CV] activation=tanh, early_stopping=True, hidden_layer_sizes=(128, 2), learning_rate=adaptive, learning_rate_init=0.01, solver=adam \n"
     ]
    },
    {
     "name": "stderr",
     "output_type": "stream",
     "text": [
      "[Parallel(n_jobs=1)]: Done   3 out of   3 | elapsed:    0.3s remaining:    0.0s\n"
     ]
    },
    {
     "name": "stdout",
     "output_type": "stream",
     "text": [
      "[CV]  activation=tanh, early_stopping=True, hidden_layer_sizes=(128, 2), learning_rate=adaptive, learning_rate_init=0.01, solver=adam, score=-288.25241203188625, total=   3.4s\n",
      "[CV] activation=tanh, early_stopping=True, hidden_layer_sizes=(128, 2), learning_rate=adaptive, learning_rate_init=0.01, solver=adam \n"
     ]
    },
    {
     "name": "stderr",
     "output_type": "stream",
     "text": [
      "[Parallel(n_jobs=1)]: Done   4 out of   4 | elapsed:    3.7s remaining:    0.0s\n"
     ]
    },
    {
     "name": "stdout",
     "output_type": "stream",
     "text": [
      "[CV]  activation=tanh, early_stopping=True, hidden_layer_sizes=(128, 2), learning_rate=adaptive, learning_rate_init=0.01, solver=adam, score=-258.7236109005222, total=   2.9s\n",
      "[CV] activation=tanh, early_stopping=True, hidden_layer_sizes=(128, 2), learning_rate=adaptive, learning_rate_init=0.01, solver=adam \n"
     ]
    },
    {
     "name": "stderr",
     "output_type": "stream",
     "text": [
      "[Parallel(n_jobs=1)]: Done   5 out of   5 | elapsed:    6.6s remaining:    0.0s\n"
     ]
    },
    {
     "name": "stdout",
     "output_type": "stream",
     "text": [
      "[CV]  activation=tanh, early_stopping=True, hidden_layer_sizes=(128, 2), learning_rate=adaptive, learning_rate_init=0.01, solver=adam, score=-257.2076289164908, total=   3.4s\n",
      "[CV] activation=tanh, early_stopping=True, hidden_layer_sizes=(1024, 2), learning_rate=adaptive, learning_rate_init=0.01, solver=sgd \n"
     ]
    },
    {
     "name": "stderr",
     "output_type": "stream",
     "text": [
      "[Parallel(n_jobs=1)]: Done   6 out of   6 | elapsed:   10.1s remaining:    0.0s\n"
     ]
    },
    {
     "name": "stdout",
     "output_type": "stream",
     "text": [
      "[CV]  activation=tanh, early_stopping=True, hidden_layer_sizes=(1024, 2), learning_rate=adaptive, learning_rate_init=0.01, solver=sgd, score=-278.35563722398024, total=   0.4s\n",
      "[CV] activation=tanh, early_stopping=True, hidden_layer_sizes=(1024, 2), learning_rate=adaptive, learning_rate_init=0.01, solver=sgd \n"
     ]
    },
    {
     "name": "stderr",
     "output_type": "stream",
     "text": [
      "[Parallel(n_jobs=1)]: Done   7 out of   7 | elapsed:   10.5s remaining:    0.0s\n"
     ]
    },
    {
     "name": "stdout",
     "output_type": "stream",
     "text": [
      "[CV]  activation=tanh, early_stopping=True, hidden_layer_sizes=(1024, 2), learning_rate=adaptive, learning_rate_init=0.01, solver=sgd, score=-341.6683670836052, total=   0.5s\n",
      "[CV] activation=tanh, early_stopping=True, hidden_layer_sizes=(1024, 2), learning_rate=adaptive, learning_rate_init=0.01, solver=sgd \n"
     ]
    },
    {
     "name": "stderr",
     "output_type": "stream",
     "text": [
      "[Parallel(n_jobs=1)]: Done   8 out of   8 | elapsed:   11.0s remaining:    0.0s\n"
     ]
    },
    {
     "name": "stdout",
     "output_type": "stream",
     "text": [
      "[CV]  activation=tanh, early_stopping=True, hidden_layer_sizes=(1024, 2), learning_rate=adaptive, learning_rate_init=0.01, solver=sgd, score=-297.67236533596656, total=   0.5s\n",
      "[CV] activation=tanh, early_stopping=True, hidden_layer_sizes=(1024, 2), learning_rate=adaptive, learning_rate_init=0.01, solver=adam \n"
     ]
    },
    {
     "name": "stderr",
     "output_type": "stream",
     "text": [
      "[Parallel(n_jobs=1)]: Done   9 out of   9 | elapsed:   11.5s remaining:    0.0s\n"
     ]
    },
    {
     "name": "stdout",
     "output_type": "stream",
     "text": [
      "[CV]  activation=tanh, early_stopping=True, hidden_layer_sizes=(1024, 2), learning_rate=adaptive, learning_rate_init=0.01, solver=adam, score=-284.91415370427427, total=  14.6s\n",
      "[CV] activation=tanh, early_stopping=True, hidden_layer_sizes=(1024, 2), learning_rate=adaptive, learning_rate_init=0.01, solver=adam \n"
     ]
    },
    {
     "name": "stderr",
     "output_type": "stream",
     "text": [
      "[Parallel(n_jobs=1)]: Done  10 out of  10 | elapsed:   26.1s remaining:    0.0s\n"
     ]
    },
    {
     "name": "stdout",
     "output_type": "stream",
     "text": [
      "[CV]  activation=tanh, early_stopping=True, hidden_layer_sizes=(1024, 2), learning_rate=adaptive, learning_rate_init=0.01, solver=adam, score=-257.2236169209939, total=  11.9s\n",
      "[CV] activation=tanh, early_stopping=True, hidden_layer_sizes=(1024, 2), learning_rate=adaptive, learning_rate_init=0.01, solver=adam \n"
     ]
    },
    {
     "name": "stderr",
     "output_type": "stream",
     "text": [
      "[Parallel(n_jobs=1)]: Done  11 out of  11 | elapsed:   38.0s remaining:    0.0s\n"
     ]
    },
    {
     "name": "stdout",
     "output_type": "stream",
     "text": [
      "[CV]  activation=tanh, early_stopping=True, hidden_layer_sizes=(1024, 2), learning_rate=adaptive, learning_rate_init=0.01, solver=adam, score=-257.09483989048385, total=  14.8s\n",
      "[CV] activation=relu, early_stopping=True, hidden_layer_sizes=(128, 2), learning_rate=adaptive, learning_rate_init=0.01, solver=sgd \n",
      "[CV]  activation=relu, early_stopping=True, hidden_layer_sizes=(128, 2), learning_rate=adaptive, learning_rate_init=0.01, solver=sgd, score=-278.70604876531144, total=   0.1s\n",
      "[CV] activation=relu, early_stopping=True, hidden_layer_sizes=(128, 2), learning_rate=adaptive, learning_rate_init=0.01, solver=sgd \n",
      "[CV]  activation=relu, early_stopping=True, hidden_layer_sizes=(128, 2), learning_rate=adaptive, learning_rate_init=0.01, solver=sgd, score=-26479571446597.766, total=   0.1s\n",
      "[CV] activation=relu, early_stopping=True, hidden_layer_sizes=(128, 2), learning_rate=adaptive, learning_rate_init=0.01, solver=sgd \n"
     ]
    },
    {
     "name": "stderr",
     "output_type": "stream",
     "text": [
      "[Parallel(n_jobs=1)]: Done  12 out of  12 | elapsed:   52.9s remaining:    0.0s\n",
      "[Parallel(n_jobs=1)]: Done  13 out of  13 | elapsed:   52.9s remaining:    0.0s\n",
      "[Parallel(n_jobs=1)]: Done  14 out of  14 | elapsed:   53.0s remaining:    0.0s\n"
     ]
    },
    {
     "name": "stdout",
     "output_type": "stream",
     "text": [
      "[CV]  activation=relu, early_stopping=True, hidden_layer_sizes=(128, 2), learning_rate=adaptive, learning_rate_init=0.01, solver=sgd, score=-258.16169820849615, total=   0.1s\n",
      "[CV] activation=relu, early_stopping=True, hidden_layer_sizes=(128, 2), learning_rate=adaptive, learning_rate_init=0.01, solver=adam \n",
      "[CV]  activation=relu, early_stopping=True, hidden_layer_sizes=(128, 2), learning_rate=adaptive, learning_rate_init=0.01, solver=adam, score=-1.5371457773177248, total=   0.2s\n",
      "[CV] activation=relu, early_stopping=True, hidden_layer_sizes=(128, 2), learning_rate=adaptive, learning_rate_init=0.01, solver=adam \n"
     ]
    },
    {
     "name": "stderr",
     "output_type": "stream",
     "text": [
      "[Parallel(n_jobs=1)]: Done  15 out of  15 | elapsed:   53.1s remaining:    0.0s\n",
      "[Parallel(n_jobs=1)]: Done  16 out of  16 | elapsed:   53.3s remaining:    0.0s\n"
     ]
    },
    {
     "name": "stdout",
     "output_type": "stream",
     "text": [
      "[CV]  activation=relu, early_stopping=True, hidden_layer_sizes=(128, 2), learning_rate=adaptive, learning_rate_init=0.01, solver=adam, score=-1.7442886312581427, total=   0.1s\n",
      "[CV] activation=relu, early_stopping=True, hidden_layer_sizes=(128, 2), learning_rate=adaptive, learning_rate_init=0.01, solver=adam \n"
     ]
    },
    {
     "name": "stderr",
     "output_type": "stream",
     "text": [
      "[Parallel(n_jobs=1)]: Done  17 out of  17 | elapsed:   53.4s remaining:    0.0s\n"
     ]
    },
    {
     "name": "stdout",
     "output_type": "stream",
     "text": [
      "[CV]  activation=relu, early_stopping=True, hidden_layer_sizes=(128, 2), learning_rate=adaptive, learning_rate_init=0.01, solver=adam, score=-257.49446485097025, total=   9.4s\n",
      "[CV] activation=relu, early_stopping=True, hidden_layer_sizes=(1024, 2), learning_rate=adaptive, learning_rate_init=0.01, solver=sgd \n",
      "[CV]  activation=relu, early_stopping=True, hidden_layer_sizes=(1024, 2), learning_rate=adaptive, learning_rate_init=0.01, solver=sgd, score=-160662454407.92703, total=   0.2s\n",
      "[CV] activation=relu, early_stopping=True, hidden_layer_sizes=(1024, 2), learning_rate=adaptive, learning_rate_init=0.01, solver=sgd \n"
     ]
    },
    {
     "name": "stderr",
     "output_type": "stream",
     "text": [
      "[Parallel(n_jobs=1)]: Done  18 out of  18 | elapsed:  1.0min remaining:    0.0s\n",
      "[Parallel(n_jobs=1)]: Done  19 out of  19 | elapsed:  1.0min remaining:    0.0s\n"
     ]
    },
    {
     "name": "stdout",
     "output_type": "stream",
     "text": [
      "[CV]  activation=relu, early_stopping=True, hidden_layer_sizes=(1024, 2), learning_rate=adaptive, learning_rate_init=0.01, solver=sgd, score=-16657185587.71732, total=   0.3s\n",
      "[CV] activation=relu, early_stopping=True, hidden_layer_sizes=(1024, 2), learning_rate=adaptive, learning_rate_init=0.01, solver=sgd \n",
      "[CV]  activation=relu, early_stopping=True, hidden_layer_sizes=(1024, 2), learning_rate=adaptive, learning_rate_init=0.01, solver=sgd, score=-258.24869958000977, total=   0.3s\n",
      "[CV] activation=relu, early_stopping=True, hidden_layer_sizes=(1024, 2), learning_rate=adaptive, learning_rate_init=0.01, solver=adam \n",
      "[CV]  activation=relu, early_stopping=True, hidden_layer_sizes=(1024, 2), learning_rate=adaptive, learning_rate_init=0.01, solver=adam, score=-285.1111923300308, total=  30.3s\n",
      "[CV] activation=relu, early_stopping=True, hidden_layer_sizes=(1024, 2), learning_rate=adaptive, learning_rate_init=0.01, solver=adam \n",
      "[CV]  activation=relu, early_stopping=True, hidden_layer_sizes=(1024, 2), learning_rate=adaptive, learning_rate_init=0.01, solver=adam, score=-255.72439528450434, total=  28.9s\n",
      "[CV] activation=relu, early_stopping=True, hidden_layer_sizes=(1024, 2), learning_rate=adaptive, learning_rate_init=0.01, solver=adam \n",
      "[CV]  activation=relu, early_stopping=True, hidden_layer_sizes=(1024, 2), learning_rate=adaptive, learning_rate_init=0.01, solver=adam, score=-259.3577883362436, total=  27.5s\n",
      "Grid Search best parameters:\n",
      "{'activation': 'relu', 'early_stopping': True, 'hidden_layer_sizes': (128, 2), 'learning_rate': 'adaptive', 'learning_rate_init': 0.01, 'solver': 'adam'}\n",
      "Mean Squared Error Score:  -1.9324107243261082\n"
     ]
    },
    {
     "name": "stderr",
     "output_type": "stream",
     "text": [
      "[Parallel(n_jobs=1)]: Done  24 out of  24 | elapsed:  2.5min finished\n"
     ]
    }
   ],
   "source": [
    "#define the MLP regressor with maximum iterations\n",
    "regressor = MLPRegressor(max_iter=3000)\n",
    "\n",
    "#specifying the different parameters to perform the grid search on\n",
    "param_grid = {'hidden_layer_sizes': [(128,2),(1024,2)], 'learning_rate':['adaptive'],'activation':['tanh', 'relu'], 'solver':['sgd', 'adam'],\n",
    "             'learning_rate_init':[0.01],  'early_stopping':[True]}\n",
    "\n",
    "\n",
    "#perform gridsearch on all possible combinations of parameters with cross validation division\n",
    "clf = GridSearchCV(regressor, param_grid=param_grid, cv=3, verbose=20, scoring= \"neg_mean_squared_error\")\n",
    "clf.fit(X_train,Y_train)\n",
    "\n",
    "#print the best architecture parameters and the score\n",
    "print(\"Grid Search best parameters:\")\n",
    "print(clf.best_params_)\n",
    "print(\"Mean Squared Error Score: \", clf.score(X_test, Y_test))\n",
    "\n"
   ]
  },
  {
   "cell_type": "code",
   "execution_count": 76,
   "metadata": {},
   "outputs": [
    {
     "name": "stdout",
     "output_type": "stream",
     "text": [
      "Mean Square Error for GridSearch Best Parameters using Adam: 1.8629000164891578\n"
     ]
    }
   ],
   "source": [
    "\n",
    "#After running our grid search on different options for activation, hidden layer sizes, solvers, learning rates\n",
    "#we show the results and then we define a regressor with the best parameters to get the predictions and calculate Mean square error\n",
    "#and then we display the results of the first 3 instances of the predictions vs the true ones\n",
    "#Best Parameters were: \n",
    "#Activation: relu, Hidden layer sizes: (128,2), learning rate init: 0.01 and adaptive, solver: adam\n",
    "\n",
    "\n",
    "#define the MLP regressor with max iterations using best params from GridSearch, splitting training set into training and validation\n",
    "regressor = MLPRegressor(solver='adam', hidden_layer_sizes=(128,2), validation_fraction=0.25, learning_rate='adaptive', activation='relu', learning_rate_init=0.01, max_iter=5000, early_stopping=True)\n",
    "regressor.fit(X_train, Y_train)\n",
    "predictions = regressor.predict(X_test)\n",
    "MSE = mean_squared_error(Y_test, predictions)\n",
    "print(\"Mean Square Error for GridSearch Best Parameters using Adam:\", MSE)\n",
    " "
   ]
  },
  {
   "cell_type": "code",
   "execution_count": 77,
   "metadata": {},
   "outputs": [
    {
     "name": "stdout",
     "output_type": "stream",
     "text": [
      "Instance  1  predicted days: \n",
      "Day 1 : Actual Values =  49.8356 VS True Value= 49.775578816758085\n",
      "Day 2 : Actual Values =  50.2441 VS True Value= 49.388029182360135\n",
      "Day 3 : Actual Values =  50.6818 VS True Value= 49.319636765191696\n",
      "Day 4 : Actual Values =  50.5067 VS True Value= 49.34851963665131\n",
      "\n",
      "Instance  2  predicted days: \n",
      "Day 1 : Actual Values =  41.2652 VS True Value= 41.76133126011954\n",
      "Day 2 : Actual Values =  41.3947 VS True Value= 41.13971611312839\n",
      "Day 3 : Actual Values =  41.8215 VS True Value= 41.058132929353796\n",
      "Day 4 : Actual Values =  41.7351 VS True Value= 41.037211452676544\n",
      "\n",
      "Instance  3  predicted days: \n",
      "Day 1 : Actual Values =  74.0995 VS True Value= 74.90002944452631\n",
      "Day 2 : Actual Values =  73.882 VS True Value= 75.24626889927869\n",
      "Day 3 : Actual Values =  73.5261 VS True Value= 75.21922918078803\n",
      "Day 4 : Actual Values =  74.2281 VS True Value= 75.4042473446715\n",
      "\n"
     ]
    }
   ],
   "source": [
    "#DISPLAY (as requested) The predicted values from the classifier with the best parameters against the true values\n",
    "for i in range(3):\n",
    "    print(\"Instance \", i+1, \" predicted days: \")\n",
    "    print(\"Day 1 : Actual Values = \", Y_test[i][0], \"VS True Value=\", predictions[i][0])\n",
    "    print(\"Day 2 : Actual Values = \", Y_test[i][1], \"VS True Value=\", predictions[i][1])\n",
    "    print(\"Day 3 : Actual Values = \", Y_test[i][2], \"VS True Value=\", predictions[i][2])\n",
    "    print(\"Day 4 : Actual Values = \", Y_test[i][3], \"VS True Value=\", predictions[i][3])\n",
    "    print()\n",
    "\n",
    "    "
   ]
  },
  {
   "cell_type": "code",
   "execution_count": null,
   "metadata": {},
   "outputs": [],
   "source": [
    "#------------------ TASK 2 ANALYSIS -------------------------\n",
    "# For scoring metric, this time we used Mean Squared Error since the range of output values is not as large as task 1\n",
    "#and keeping in mind that Mean Squared Log error is much computational expensive for doing the log operations\n",
    "#so since the mean squared error function is not large enough to labour such complexity of the log error, we used the mean squared error metric\n",
    "#We performed our grid search on a lot of permutatiaons to get the best architecture \n",
    "#whose values were indicated and used in the following regressor to get the actual predictions\n",
    "#Then, we displayed for the first 3 instances the predicted values against the true ones for the predicted coming 4 days for each instance\n",
    "#As seen, the values were somehow close to the true ones which indicate that using the mean squared error here was a good choice.\n",
    "\n"
   ]
  },
  {
   "cell_type": "markdown",
   "metadata": {},
   "source": [
    "# TASK 3"
   ]
  },
  {
   "cell_type": "code",
   "execution_count": 79,
   "metadata": {},
   "outputs": [
    {
     "name": "stdout",
     "output_type": "stream",
     "text": [
      "overall\n",
      "1     2791\n",
      "2     3010\n",
      "3     6789\n",
      "4    16536\n",
      "5    35580\n",
      "Name: reviewerID, dtype: int64\n"
     ]
    }
   ],
   "source": [
    "import pandas as pd\n",
    "from sklearn.feature_extraction.text import TfidfTransformer\n",
    "from sklearn.feature_extraction.text import TfidfVectorizer\n",
    "from sklearn.neural_network import MLPClassifier\n",
    "\n",
    "#read reviews dataset from json file\n",
    "reviews_dataset = pd.read_json(\"reviews_Digital_Music_5.json\", lines=True)\n",
    "dataset_grouped_by_rating = reviews_dataset.groupby(['overall']).count()['reviewerID']\n",
    "\n",
    "#group dataset rows by the overall rating to display the count of each class\n",
    "print(dataset_grouped_by_rating) "
   ]
  },
  {
   "cell_type": "code",
   "execution_count": 80,
   "metadata": {},
   "outputs": [],
   "source": [
    "#we get iteratively the counts of each rating and then we take the first 2500 reviews only, to balance the dataset\n",
    "rating = reviews_dataset[reviews_dataset['overall']==1]\n",
    "result = rating[:2500]\n",
    "\n",
    "for i in range(2,6):\n",
    "    rating = reviews_dataset[reviews_dataset['overall']==i]\n",
    "    rating_cut = rating[:2500]\n",
    "    result = pd.concat([result, rating_cut])\n",
    "    \n"
   ]
  },
  {
   "cell_type": "code",
   "execution_count": 81,
   "metadata": {},
   "outputs": [],
   "source": [
    "#We extract the review text column as our input and the overall rating column as our output\n",
    "Y = np.array(reviews_dataset['overall'])\n",
    "X = np.array(reviews_dataset['reviewText'])\n",
    "\n",
    "#divide the dataset into training and testing sets with ratio 80:20\n",
    "X_train,X_test,Y_train,Y_test = train_test_split(X,Y,test_size=0.2)\n"
   ]
  },
  {
   "cell_type": "code",
   "execution_count": 82,
   "metadata": {},
   "outputs": [],
   "source": [
    "#Calculate the tf-idf matrix for each review text\n",
    "tfidf_vectorizer = TfidfVectorizer(max_features=40000)\n",
    "X_train_transformed = tfidf_vectorizer.fit_transform(X_train)\n",
    "X_test_transformed = tfidf_vectorizer.transform(X_test)"
   ]
  },
  {
   "cell_type": "code",
   "execution_count": 84,
   "metadata": {},
   "outputs": [
    {
     "name": "stdout",
     "output_type": "stream",
     "text": [
      "Accuracy Score:  0.6006799567300263\n"
     ]
    }
   ],
   "source": [
    "#Define a classifier with alpha value for requarization with early stopping option to stop before increase of validation error\n",
    "#Hidden layers of sizes (128,2)\n",
    "classifier = MLPClassifier(hidden_layer_sizes=(128,2) ,alpha=0.001, validation_fraction=0.25, max_iter=50000, \n",
    "                           activation='tanh', solver='adam', early_stopping=True)\n",
    "classifier.fit(X_train_transformed, Y_train)\n",
    "predictions_128 = classifier.predict(X_test_transformed)\n",
    "accuracy_128 = accuracy_score(Y_test, predictions_128)\n",
    "print(\"Accuracy Score for layers (128,2): \", accuracy_128)\n"
   ]
  },
  {
   "cell_type": "code",
   "execution_count": 86,
   "metadata": {},
   "outputs": [],
   "source": [
    "#Define a classifier with alpha value for requarization with early stopping option to stop before increase of validation error\n",
    "#Hidden layers of sizes (512,2)\n",
    "classifier = MLPClassifier(hidden_layer_sizes=(512,2) ,alpha=0.001, validation_fraction=0.25, max_iter=50000, \n",
    "                           activation='tanh', solver='adam', early_stopping=True)\n",
    "classifier.fit(X_train_transformed, Y_train)\n",
    "predictions_512 = classifier.predict(X_test_transformed)\n",
    "accuracy_512 = accuracy_score(Y_test, predictions_256)\n",
    "print(\"Accuracy Score for layers (512,2): \", accuracy_512)\n"
   ]
  },
  {
   "cell_type": "code",
   "execution_count": null,
   "metadata": {},
   "outputs": [],
   "source": []
  }
 ],
 "metadata": {
  "kernelspec": {
   "display_name": "Python 3",
   "language": "python",
   "name": "python3"
  },
  "language_info": {
   "codemirror_mode": {
    "name": "ipython",
    "version": 3
   },
   "file_extension": ".py",
   "mimetype": "text/x-python",
   "name": "python",
   "nbconvert_exporter": "python",
   "pygments_lexer": "ipython3",
   "version": "3.6.5"
  }
 },
 "nbformat": 4,
 "nbformat_minor": 2
}
