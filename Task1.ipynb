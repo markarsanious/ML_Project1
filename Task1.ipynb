{
 "cells": [
  {
   "cell_type": "code",
   "execution_count": 2,
   "metadata": {},
   "outputs": [],
   "source": [
    "import numpy as np\n",
    "import pandas as pd\n",
    "from sklearn import preprocessing\n",
    "from sklearn import metrics\n",
    "from sklearn.model_selection import train_test_split\n",
    "from sklearn.neural_network import MLPRegressor\n",
    "from sklearn.model_selection import GridSearchCV\n",
    "\n",
    "\n",
    "#read data\n",
    "data = pd.read_csv(\"sp500_27270.csv\")\n",
    "\n",
    "\n"
   ]
  },
  {
   "cell_type": "code",
   "execution_count": 3,
   "metadata": {},
   "outputs": [],
   "source": [
    "#Filtering data satisfying correlation >=\n",
    "filtered_companies = []\n",
    "correlation = data.corr()\n",
    "for i in range(len(correlation)):\n",
    "    if(correlation['SP500'][i]>=0.95 or correlation['SP500'][i]<=-0.95):\n",
    "        filtered_companies.append(correlation['SP500'].keys().values[i])\n",
    "        \n",
    "filtered_data = data.filter(filtered_companies)"
   ]
  },
  {
   "cell_type": "code",
   "execution_count": 91,
   "metadata": {},
   "outputs": [
    {
     "name": "stdout",
     "output_type": "stream",
     "text": [
      "{'activation': 'tanh', 'hidden_layer_sizes': (15, 2), 'solver': 'adam'}\n"
     ]
    },
    {
     "data": {
      "text/plain": [
       "0.9857523174211641"
      ]
     },
     "execution_count": 91,
     "metadata": {},
     "output_type": "execute_result"
    }
   ],
   "source": [
    "#print(filtered_data.shape)\n",
    "Y = np.array(filtered_data['SP500'])\n",
    "X = np.array(filtered_data.drop(columns=['SP500']))\n",
    "\n",
    "#Normalizing Data\n",
    "X_scaled = preprocessing.scale(X)\n",
    "Y_scaled = preprocessing.scale(Y)\n",
    "\n",
    "X_train,X_test,Y_train,Y_test = train_test_split(X_scaled,Y_scaled,test_size=0.2)\n",
    "\n",
    "regressor = MLPRegressor(max_iter=3000)\n",
    "\n",
    "param_grid = {'hidden_layer_sizes': [(15, 2), (10, 2)], 'activation': ['relu', 'tanh'], 'solver':['sgd', 'adam']}\n",
    "\n",
    "clf = GridSearchCV(regressor, param_grid=param_grid, cv=3)\n",
    "clf.fit(X_train,Y_train)\n",
    "\n",
    "print(clf.best_params_)\n",
    "clf.score(X_test, Y_test)"
   ]
  },
  {
   "cell_type": "code",
   "execution_count": null,
   "metadata": {},
   "outputs": [],
   "source": []
  },
  {
   "cell_type": "code",
   "execution_count": null,
   "metadata": {},
   "outputs": [],
   "source": []
  },
  {
   "cell_type": "code",
   "execution_count": null,
   "metadata": {},
   "outputs": [],
   "source": []
  },
  {
   "cell_type": "code",
   "execution_count": null,
   "metadata": {},
   "outputs": [],
   "source": []
  },
  {
   "cell_type": "code",
   "execution_count": null,
   "metadata": {},
   "outputs": [],
   "source": []
  },
  {
   "cell_type": "code",
   "execution_count": null,
   "metadata": {},
   "outputs": [],
   "source": []
  },
  {
   "cell_type": "markdown",
   "metadata": {},
   "source": [
    "# TASK 2"
   ]
  },
  {
   "cell_type": "code",
   "execution_count": 4,
   "metadata": {},
   "outputs": [],
   "source": [
    "sorted_dataframe = correlation.sort_values(['SP500'], ascending=False)\n",
    "sorted_dataframe = sorted_dataframe[1:]\n",
    "\n",
    "#print(sorted_dataframe)\n",
    "maximum_company = sorted_dataframe['SP500'].keys().values[0]\n",
    "\n",
    "maximum_company_data = data[maximum_company]\n",
    "#print(maximum_company_data)\n",
    "\n",
    "#print(data_list)\n",
    "\n",
    "X = []\n",
    "Y = []\n",
    "\n",
    "for value in range(0,len(maximum_company_data)-9):\n",
    "    x_element = list(maximum_company_data[:5])\n",
    "    y_element = list(maximum_company_data[5:9])\n",
    "    X.append(x_element)\n",
    "    Y.append(y_element)\n",
    "    maximum_company_data = maximum_company_data.shift(-1)\n"
   ]
  },
  {
   "cell_type": "code",
   "execution_count": 5,
   "metadata": {},
   "outputs": [
    {
     "name": "stdout",
     "output_type": "stream",
     "text": [
      "{'activation': 'tanh', 'hidden_layer_sizes': (15, 2), 'solver': 'sgd'}\n"
     ]
    },
    {
     "data": {
      "text/plain": [
       "0.9753335594146819"
      ]
     },
     "execution_count": 5,
     "metadata": {},
     "output_type": "execute_result"
    }
   ],
   "source": [
    "#Normalizing Data\n",
    "X_scaled = preprocessing.scale(X)\n",
    "Y_scaled = preprocessing.scale(Y)\n",
    "\n",
    "X_train,X_test,Y_train,Y_test = train_test_split(X_scaled,Y_scaled,test_size=0.2)\n",
    "\n",
    "regressor = MLPRegressor(max_iter=3000)\n",
    "\n",
    "param_grid = {'hidden_layer_sizes': [(15, 2), (10, 2)], 'activation': ['relu', 'tanh'], 'solver':['sgd', 'adam']}\n",
    "\n",
    "clf = GridSearchCV(regressor, param_grid=param_grid, cv=3)\n",
    "clf.fit(X_train,Y_train)\n",
    "\n",
    "print(clf.best_params_)\n",
    "clf.score(X_test, Y_test)"
   ]
  },
  {
   "cell_type": "code",
   "execution_count": null,
   "metadata": {},
   "outputs": [],
   "source": []
  }
 ],
 "metadata": {
  "kernelspec": {
   "display_name": "Python 3",
   "language": "python",
   "name": "python3"
  },
  "language_info": {
   "codemirror_mode": {
    "name": "ipython",
    "version": 3
   },
   "file_extension": ".py",
   "mimetype": "text/x-python",
   "name": "python",
   "nbconvert_exporter": "python",
   "pygments_lexer": "ipython3",
   "version": "3.6.5"
  }
 },
 "nbformat": 4,
 "nbformat_minor": 2
}
